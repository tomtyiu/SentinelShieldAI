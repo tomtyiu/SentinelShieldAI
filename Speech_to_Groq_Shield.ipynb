{
  "nbformat": 4,
  "nbformat_minor": 0,
  "metadata": {
    "colab": {
      "provenance": [],
      "authorship_tag": "ABX9TyOphjx36pDkzwELLqRGqd0L",
      "include_colab_link": true
    },
    "kernelspec": {
      "name": "python3",
      "display_name": "Python 3"
    },
    "language_info": {
      "name": "python"
    }
  },
  "cells": [
    {
      "cell_type": "markdown",
      "metadata": {
        "id": "view-in-github",
        "colab_type": "text"
      },
      "source": [
        "<a href=\"https://colab.research.google.com/github/tomtyiu/SentinelShieldAI/blob/main/Speech_to_Groq_Shield.ipynb\" target=\"_parent\"><img src=\"https://colab.research.google.com/assets/colab-badge.svg\" alt=\"Open In Colab\"/></a>"
      ]
    },
    {
      "cell_type": "code",
      "source": [
        "!pip install groq"
      ],
      "metadata": {
        "id": "mMX6gonHe79b",
        "outputId": "71b0aebe-e82f-464d-944b-4f886ab636f9",
        "colab": {
          "base_uri": "https://localhost:8080/"
        }
      },
      "execution_count": null,
      "outputs": [
        {
          "output_type": "stream",
          "name": "stdout",
          "text": [
            "Collecting groq\n",
            "  Downloading groq-0.9.0-py3-none-any.whl (103 kB)\n",
            "\u001b[2K     \u001b[90m━━━━━━━━━━━━━━━━━━━━━━━━━━━━━━━━━━━━━━━━\u001b[0m \u001b[32m103.5/103.5 kB\u001b[0m \u001b[31m1.7 MB/s\u001b[0m eta \u001b[36m0:00:00\u001b[0m\n",
            "\u001b[?25hRequirement already satisfied: anyio<5,>=3.5.0 in /usr/local/lib/python3.10/dist-packages (from groq) (3.7.1)\n",
            "Requirement already satisfied: distro<2,>=1.7.0 in /usr/lib/python3/dist-packages (from groq) (1.7.0)\n",
            "Collecting httpx<1,>=0.23.0 (from groq)\n",
            "  Downloading httpx-0.27.0-py3-none-any.whl (75 kB)\n",
            "\u001b[2K     \u001b[90m━━━━━━━━━━━━━━━━━━━━━━━━━━━━━━━━━━━━━━━━\u001b[0m \u001b[32m75.6/75.6 kB\u001b[0m \u001b[31m3.4 MB/s\u001b[0m eta \u001b[36m0:00:00\u001b[0m\n",
            "\u001b[?25hRequirement already satisfied: pydantic<3,>=1.9.0 in /usr/local/lib/python3.10/dist-packages (from groq) (2.8.0)\n",
            "Requirement already satisfied: sniffio in /usr/local/lib/python3.10/dist-packages (from groq) (1.3.1)\n",
            "Requirement already satisfied: typing-extensions<5,>=4.7 in /usr/local/lib/python3.10/dist-packages (from groq) (4.12.2)\n",
            "Requirement already satisfied: idna>=2.8 in /usr/local/lib/python3.10/dist-packages (from anyio<5,>=3.5.0->groq) (3.7)\n",
            "Requirement already satisfied: exceptiongroup in /usr/local/lib/python3.10/dist-packages (from anyio<5,>=3.5.0->groq) (1.2.1)\n",
            "Requirement already satisfied: certifi in /usr/local/lib/python3.10/dist-packages (from httpx<1,>=0.23.0->groq) (2024.6.2)\n",
            "Collecting httpcore==1.* (from httpx<1,>=0.23.0->groq)\n",
            "  Downloading httpcore-1.0.5-py3-none-any.whl (77 kB)\n",
            "\u001b[2K     \u001b[90m━━━━━━━━━━━━━━━━━━━━━━━━━━━━━━━━━━━━━━━━\u001b[0m \u001b[32m77.9/77.9 kB\u001b[0m \u001b[31m2.4 MB/s\u001b[0m eta \u001b[36m0:00:00\u001b[0m\n",
            "\u001b[?25hCollecting h11<0.15,>=0.13 (from httpcore==1.*->httpx<1,>=0.23.0->groq)\n",
            "  Downloading h11-0.14.0-py3-none-any.whl (58 kB)\n",
            "\u001b[2K     \u001b[90m━━━━━━━━━━━━━━━━━━━━━━━━━━━━━━━━━━━━━━━━\u001b[0m \u001b[32m58.3/58.3 kB\u001b[0m \u001b[31m5.1 MB/s\u001b[0m eta \u001b[36m0:00:00\u001b[0m\n",
            "\u001b[?25hRequirement already satisfied: annotated-types>=0.4.0 in /usr/local/lib/python3.10/dist-packages (from pydantic<3,>=1.9.0->groq) (0.7.0)\n",
            "Requirement already satisfied: pydantic-core==2.20.0 in /usr/local/lib/python3.10/dist-packages (from pydantic<3,>=1.9.0->groq) (2.20.0)\n",
            "Installing collected packages: h11, httpcore, httpx, groq\n",
            "Successfully installed groq-0.9.0 h11-0.14.0 httpcore-1.0.5 httpx-0.27.0\n"
          ]
        }
      ]
    },
    {
      "cell_type": "code",
      "source": [
        "!apt install python3.10-venv\n",
        "!python -m venv env1\n",
        "\n",
        "!source env1/bin/activate"
      ],
      "metadata": {
        "colab": {
          "base_uri": "https://localhost:8080/"
        },
        "id": "yJ7ZPaLfH0Mr",
        "outputId": "cf7a20e0-c629-4b1c-ca1d-6582b70ef14f"
      },
      "execution_count": null,
      "outputs": [
        {
          "output_type": "stream",
          "name": "stdout",
          "text": [
            "Reading package lists... Done\n",
            "Building dependency tree... Done\n",
            "Reading state information... Done\n"
          ]
        }
      ]
    },
    {
      "cell_type": "code",
      "source": [
        "import pyaudio\n",
        "import wave\n",
        "import os\n",
        "from groq import Groq\n",
        "\n",
        "FORMAT = pyaudio.paInt16\n",
        "CHANNELS = 2\n",
        "RATE = 16000\n",
        "CHUNK = 1024\n",
        "RECORD_SECONDS = 15\n",
        "WAVE_OUTPUT_FILENAME = \"file.wav\"\n",
        "\n",
        "client = Groq(\n",
        "    api_key=os.environ.get(\"GROQ_API_KEY\"),\n",
        "    )\n",
        "\n",
        "\n",
        "def recording(WAVE_OUTPUT_FILENAME):\n",
        "    audio = pyaudio.PyAudio()\n",
        "\n",
        "    # start Recording\n",
        "    stream = audio.open(format=FORMAT, channels=CHANNELS,\n",
        "                    rate=RATE, input=True,\n",
        "                    frames_per_buffer=CHUNK)\n",
        "    print(\"recording...\")\n",
        "    frames = []\n",
        "\n",
        "    for i in range(0, int(RATE / CHUNK * RECORD_SECONDS)):\n",
        "        data = stream.read(CHUNK)\n",
        "        frames.append(data)\n",
        "    print(\"finished recording\")\n",
        "\n",
        "\n",
        "    # stop Recording\n",
        "    stream.stop_stream()\n",
        "    stream.close()\n",
        "    audio.terminate()\n",
        "\n",
        "    waveFile = wave.open(WAVE_OUTPUT_FILENAME, 'wb')\n",
        "    waveFile.setnchannels(CHANNELS)\n",
        "    waveFile.setsampwidth(audio.get_sample_size(FORMAT))\n",
        "    waveFile.setframerate(RATE)\n",
        "    waveFile.writeframes(b''.join(frames))\n",
        "    waveFile.close()\n"
      ],
      "metadata": {
        "id": "xo3VubYIfFMJ",
        "colab": {
          "base_uri": "https://localhost:8080/",
          "height": 399
        },
        "outputId": "47309815-107e-42e6-a85e-b073894c091f"
      },
      "execution_count": 2,
      "outputs": [
        {
          "output_type": "error",
          "ename": "ModuleNotFoundError",
          "evalue": "No module named 'pyaudio'",
          "traceback": [
            "\u001b[0;31m---------------------------------------------------------------------------\u001b[0m",
            "\u001b[0;31mModuleNotFoundError\u001b[0m                       Traceback (most recent call last)",
            "\u001b[0;32m<ipython-input-2-8db0c2db1a3b>\u001b[0m in \u001b[0;36m<cell line: 1>\u001b[0;34m()\u001b[0m\n\u001b[0;32m----> 1\u001b[0;31m \u001b[0;32mimport\u001b[0m \u001b[0mpyaudio\u001b[0m\u001b[0;34m\u001b[0m\u001b[0;34m\u001b[0m\u001b[0m\n\u001b[0m\u001b[1;32m      2\u001b[0m \u001b[0;32mimport\u001b[0m \u001b[0mwave\u001b[0m\u001b[0;34m\u001b[0m\u001b[0;34m\u001b[0m\u001b[0m\n\u001b[1;32m      3\u001b[0m \u001b[0;32mimport\u001b[0m \u001b[0mos\u001b[0m\u001b[0;34m\u001b[0m\u001b[0;34m\u001b[0m\u001b[0m\n\u001b[1;32m      4\u001b[0m \u001b[0;32mfrom\u001b[0m \u001b[0mgroq\u001b[0m \u001b[0;32mimport\u001b[0m \u001b[0mGroq\u001b[0m\u001b[0;34m\u001b[0m\u001b[0;34m\u001b[0m\u001b[0m\n\u001b[1;32m      5\u001b[0m \u001b[0;34m\u001b[0m\u001b[0m\n",
            "\u001b[0;31mModuleNotFoundError\u001b[0m: No module named 'pyaudio'",
            "",
            "\u001b[0;31m---------------------------------------------------------------------------\u001b[0;32m\nNOTE: If your import is failing due to a missing package, you can\nmanually install dependencies using either !pip or !apt.\n\nTo view examples of installing some common dependencies, click the\n\"Open Examples\" button below.\n\u001b[0;31m---------------------------------------------------------------------------\u001b[0m\n"
          ],
          "errorDetails": {
            "actions": [
              {
                "action": "open_url",
                "actionText": "Open Examples",
                "url": "/notebooks/snippets/importing_libraries.ipynb"
              }
            ]
          }
        }
      ]
    },
    {
      "cell_type": "code",
      "execution_count": null,
      "metadata": {
        "id": "wGTmqwBWeua8"
      },
      "outputs": [],
      "source": [
        "def transcribe(WAVE_OUTPUT_FILENAME):\n",
        "    with open(WAVE_OUTPUT_FILENAME, \"rb\") as file:\n",
        "        transcription = client.audio.transcriptions.create(\n",
        "        file=(WAVE_OUTPUT_FILENAME, file.read()),\n",
        "        model=\"whisper-large-v3\",\n",
        "        prompt=\"Specify context or spelling\",  # Optional\n",
        "        response_format=\"json\",  # Optional\n",
        "        language=\"en\",  # Optional\n",
        "        temperature=0.0  # Optional\n",
        "        )\n",
        "        print(transcription.text)\n",
        "        return transcription.text"
      ]
    },
    {
      "cell_type": "code",
      "source": [
        "from optimum.onnxruntime import ORTModelForSequenceClassification\n",
        "from transformers import AutoTokenizer, pipeline\n",
        "from google.colab import userdata\n",
        "HK_TOKEN=userdata.get('HK_TOKEN')\n",
        "\n",
        "tokenizer = AutoTokenizer.from_pretrained(\"ProtectAI/deberta-v3-base-prompt-injection-v2\", subfolder=\"onnx\")\n",
        "tokenizer.model_input_names = [\"input_ids\", \"attention_mask\"]\n",
        "model = ORTModelForSequenceClassification.from_pretrained(\"ProtectAI/deberta-v3-base-prompt-injection-v2\", export=False, subfolder=\"onnx\")\n",
        "\n",
        "classifier = pipeline(\n",
        "  task=\"text-classification\",\n",
        "  model=model,\n",
        "  tokenizer=tokenizer,\n",
        "  truncation=True,\n",
        "  max_length=512,\n",
        ")\n",
        "\n"
      ],
      "metadata": {
        "id": "TwfvaqpTH6dE"
      },
      "execution_count": null,
      "outputs": []
    },
    {
      "cell_type": "code",
      "source": [
        "from tenacity import retry, stop_after_attempt, wait_fixed, retry_if_exception_type\n",
        "from groq import Groq\n",
        "import time\n",
        "from google.colab import userdata\n",
        "\n",
        "@retry(\n",
        "    wait=wait_fixed(2),\n",
        "    stop=stop_after_attempt(3),  # Adjust the number of retry attempts as needed\n",
        "    retry=retry_if_exception_type(Exception)  # Retry on any exception\n",
        ")\n",
        "def make_groq_request(input):\n",
        "    try:\n",
        "        chat_completion = client.chat.completions.create(\n",
        "            messages=[\n",
        "                {\n",
        "                    \"role\": \"user\",\n",
        "                    \"content\": input,\n",
        "                    }\n",
        "                ],\n",
        "            model=\"llama3-8b-8192\",\n",
        "        )\n",
        "        # Process the response\n",
        "        return chat_completion\n",
        "    except Exception as e:\n",
        "        # Handle rate limit exceeded error\n",
        "        if \"Rate limit exceeded\" in str(e):\n",
        "            # Extract retry-after time from headers if available\n",
        "            retry_after_tokens = float(e.response.headers.get('x-ratelimit-reset-tokens', 2))\n",
        "            retry_after_requests = float(e.response.headers.get('x-ratelimit-reset-requests', 2))\n",
        "            retry_after = max(retry_after_tokens, retry_after_requests)\n",
        "            print(f\"Rate limit exceeded. Retrying after {retry_after} seconds...\")\n",
        "            time.sleep(retry_after)\n",
        "        raise e  # Re-raise the exception to trigger retry\n",
        "\n",
        "# Make the request with retries\n",
        "record=recording(WAVE_OUTPUT_FILENAME)\n",
        "input=transcribe(WAVE_OUTPUT_FILENAME)\n",
        "result=classifier(input)\n",
        "response = make_groq_request(result)\n",
        "print(response.choices[0].message.content)"
      ],
      "metadata": {
        "id": "J5IktbgQfdsW"
      },
      "execution_count": null,
      "outputs": []
    }
  ]
}